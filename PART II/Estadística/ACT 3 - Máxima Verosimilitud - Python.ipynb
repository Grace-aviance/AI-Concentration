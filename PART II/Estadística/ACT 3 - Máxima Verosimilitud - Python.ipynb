{
 "cells": [
  {
   "metadata": {},
   "cell_type": "markdown",
   "source": [
    "# This is a sample Jupyter Notebook\n",
    "\n",
    "Below is an example of a code cell. \n",
    "Put your cursor into the cell and press Shift+Enter to execute it and select the next one, or click 'Run Cell' button.\n",
    "\n",
    "Press Double Shift to search everywhere for classes, files, tool windows, actions, and settings.\n",
    "\n",
    "To learn more about Jupyter Notebooks in PyCharm, see [help](https://www.jetbrains.com/help/pycharm/ipython-notebook-support.html).\n",
    "For an overview of PyCharm, go to Help -> Learn IDE features or refer to [our documentation](https://www.jetbrains.com/help/pycharm/getting-started.html)."
   ],
   "id": "8a77807f92f26ee"
  },
  {
   "metadata": {
    "ExecuteTime": {
     "end_time": "2024-10-31T18:52:17.047514Z",
     "start_time": "2024-10-31T18:52:14.691578Z"
    }
   },
   "cell_type": "code",
   "source": [
    "import pandas as pd\n",
    "import numpy as np\n",
    "import statsmodels.api as sm"
   ],
   "id": "fbc121e30a2defb3",
   "outputs": [],
   "execution_count": 1
  },
  {
   "metadata": {},
   "cell_type": "markdown",
   "source": [
    "$$\\text{Cálculo de: } \\; \\theta_1$$\n",
    "$$\n",
    "\\theta_1 = \\frac{\\sum_{i=1}^n (x_i - \\bar{x})(y_i - \\bar{y})}{\\sum_{i=1}^n (x_i - \\bar{x})^2}\n",
    "$$\n"
   ],
   "id": "6889743fb6d51b60"
  },
  {
   "metadata": {},
   "cell_type": "markdown",
   "source": [
    "$$\\text{Cálculo de: } \\; \\theta_0$$\n",
    "$$\n",
    "\\theta_0 = \\bar{y} - \\theta_1 \\bar{x}\n",
    "$$\n"
   ],
   "id": "b25c866320307c2"
  },
  {
   "metadata": {
    "ExecuteTime": {
     "end_time": "2024-10-31T18:54:10.981047Z",
     "start_time": "2024-10-31T18:54:10.973796Z"
    }
   },
   "cell_type": "code",
   "source": [
    "dataset=pd.read_csv(\"models/MLE Datos.csv\")\n",
    "print(dataset)"
   ],
   "id": "f9d60dbac2e46399",
   "outputs": [
    {
     "name": "stdout",
     "output_type": "stream",
     "text": [
      "     X      Y\n",
      "0    1  10.06\n",
      "1    2   6.60\n",
      "2    3  10.91\n",
      "3    4  17.96\n",
      "4    5  18.47\n",
      "5    6   9.09\n",
      "6    7  18.80\n",
      "7    8  16.39\n",
      "8    9  18.59\n",
      "9   10  22.64\n",
      "10  11  23.58\n",
      "11  12  30.82\n",
      "12  13  30.04\n",
      "13  14  29.49\n",
      "14  15  32.78\n",
      "15  16  34.33\n",
      "16  17  40.98\n",
      "17  18  36.18\n",
      "18  19  40.25\n",
      "19  20  37.58\n"
     ]
    }
   ],
   "execution_count": 7
  },
  {
   "metadata": {
    "ExecuteTime": {
     "end_time": "2024-10-31T18:55:47.836209Z",
     "start_time": "2024-10-31T18:55:47.833365Z"
    }
   },
   "cell_type": "code",
   "source": [
    "X_values=dataset[\"X\"]\n",
    "Y_values=dataset[\"Y\"]"
   ],
   "id": "768abf58781d6123",
   "outputs": [],
   "execution_count": 10
  },
  {
   "metadata": {
    "ExecuteTime": {
     "end_time": "2024-10-31T18:56:00.066346Z",
     "start_time": "2024-10-31T18:56:00.062459Z"
    }
   },
   "cell_type": "code",
   "source": "print(X_values)",
   "id": "6e5d6b20212df950",
   "outputs": [
    {
     "name": "stdout",
     "output_type": "stream",
     "text": [
      "0      1\n",
      "1      2\n",
      "2      3\n",
      "3      4\n",
      "4      5\n",
      "5      6\n",
      "6      7\n",
      "7      8\n",
      "8      9\n",
      "9     10\n",
      "10    11\n",
      "11    12\n",
      "12    13\n",
      "13    14\n",
      "14    15\n",
      "15    16\n",
      "16    17\n",
      "17    18\n",
      "18    19\n",
      "19    20\n",
      "Name: X, dtype: int64\n"
     ]
    }
   ],
   "execution_count": 12
  },
  {
   "metadata": {
    "ExecuteTime": {
     "end_time": "2024-10-31T18:56:05.870394Z",
     "start_time": "2024-10-31T18:56:05.865189Z"
    }
   },
   "cell_type": "code",
   "source": "print(Y_values)",
   "id": "51336548ba09aa71",
   "outputs": [
    {
     "name": "stdout",
     "output_type": "stream",
     "text": [
      "0     10.06\n",
      "1      6.60\n",
      "2     10.91\n",
      "3     17.96\n",
      "4     18.47\n",
      "5      9.09\n",
      "6     18.80\n",
      "7     16.39\n",
      "8     18.59\n",
      "9     22.64\n",
      "10    23.58\n",
      "11    30.82\n",
      "12    30.04\n",
      "13    29.49\n",
      "14    32.78\n",
      "15    34.33\n",
      "16    40.98\n",
      "17    36.18\n",
      "18    40.25\n",
      "19    37.58\n",
      "Name: Y, dtype: float64\n"
     ]
    }
   ],
   "execution_count": 13
  },
  {
   "metadata": {
    "ExecuteTime": {
     "end_time": "2024-10-31T18:56:39.858771Z",
     "start_time": "2024-10-31T18:56:39.854360Z"
    }
   },
   "cell_type": "code",
   "source": [
    "# Paso 1: Cálculo de theta_1 y theta_0 usando OLS\n",
    "X_mean = np.mean(X_values)\n",
    "Y_mean = np.mean(Y_values)\n",
    "print(X_mean)\n",
    "print(Y_mean)"
   ],
   "id": "8b27ca9bc6066db",
   "outputs": [
    {
     "name": "stdout",
     "output_type": "stream",
     "text": [
      "10.5\n",
      "24.276999999999997\n"
     ]
    }
   ],
   "execution_count": 16
  },
  {
   "metadata": {
    "ExecuteTime": {
     "end_time": "2024-10-31T18:56:52.979675Z",
     "start_time": "2024-10-31T18:56:52.975164Z"
    }
   },
   "cell_type": "code",
   "source": [
    "# Cálculo de theta_1\n",
    "theta_1 = np.sum((X_values - X_mean) * (Y_values - Y_mean)) / np.sum((X_values - X_mean) ** 2)\n",
    "print(theta_1)"
   ],
   "id": "3c068bb84b3d4868",
   "outputs": [
    {
     "name": "stdout",
     "output_type": "stream",
     "text": [
      "1.7606165413533834\n"
     ]
    }
   ],
   "execution_count": 17
  },
  {
   "metadata": {
    "ExecuteTime": {
     "end_time": "2024-10-31T18:57:01.649522Z",
     "start_time": "2024-10-31T18:57:01.645230Z"
    }
   },
   "cell_type": "code",
   "source": [
    "# Cálculo de theta_0\n",
    "theta_0 = Y_mean - theta_1 * X_mean\n",
    "print(theta_0)"
   ],
   "id": "36eb8e5b9ba2885d",
   "outputs": [
    {
     "name": "stdout",
     "output_type": "stream",
     "text": [
      "5.790526315789471\n"
     ]
    }
   ],
   "execution_count": 18
  },
  {
   "metadata": {
    "ExecuteTime": {
     "end_time": "2024-10-31T18:57:07.973891Z",
     "start_time": "2024-10-31T18:57:07.941327Z"
    }
   },
   "cell_type": "code",
   "source": [
    "# Paso 2: Verificación\n",
    "X_with_const = sm.add_constant(X_values)  # Columna el intercepto\n",
    "model = sm.OLS(Y_values, X_with_const).fit()\n",
    "theta_0, theta_1, model.summary()"
   ],
   "id": "a80ff196475f80e4",
   "outputs": [
    {
     "data": {
      "text/plain": [
       "(5.790526315789471,\n",
       " 1.7606165413533834,\n",
       " <class 'statsmodels.iolib.summary.Summary'>\n",
       " \"\"\"\n",
       "                             OLS Regression Results                            \n",
       " ==============================================================================\n",
       " Dep. Variable:                      Y   R-squared:                       0.914\n",
       " Model:                            OLS   Adj. R-squared:                  0.910\n",
       " Method:                 Least Squares   F-statistic:                     192.0\n",
       " Date:                Thu, 31 Oct 2024   Prob (F-statistic):           4.82e-11\n",
       " Time:                        12:57:07   Log-Likelihood:                -51.061\n",
       " No. Observations:                  20   AIC:                             106.1\n",
       " Df Residuals:                      18   BIC:                             108.1\n",
       " Df Model:                           1                                         \n",
       " Covariance Type:            nonrobust                                         \n",
       " ==============================================================================\n",
       "                  coef    std err          t      P>|t|      [0.025      0.975]\n",
       " ------------------------------------------------------------------------------\n",
       " const          5.7905      1.522      3.804      0.001       2.593       8.988\n",
       " X              1.7606      0.127     13.856      0.000       1.494       2.028\n",
       " ==============================================================================\n",
       " Omnibus:                        0.249   Durbin-Watson:                   2.123\n",
       " Prob(Omnibus):                  0.883   Jarque-Bera (JB):                0.142\n",
       " Skew:                          -0.172   Prob(JB):                        0.931\n",
       " Kurtosis:                       2.773   Cond. No.                         25.0\n",
       " ==============================================================================\n",
       " \n",
       " Notes:\n",
       " [1] Standard Errors assume that the covariance matrix of the errors is correctly specified.\n",
       " \"\"\")"
      ]
     },
     "execution_count": 19,
     "metadata": {},
     "output_type": "execute_result"
    }
   ],
   "execution_count": 19
  },
  {
   "metadata": {},
   "cell_type": "markdown",
   "source": [
    "<h4>La ecuación de la regresión lineal es entonces:</h4>\n",
    "<strong>y=5.79+1.76x</strong>"
   ],
   "id": "74a7236ecc665e57"
  },
  {
   "metadata": {},
   "cell_type": "code",
   "outputs": [],
   "execution_count": null,
   "source": "",
   "id": "b4b93699f7611c45"
  }
 ],
 "metadata": {
  "kernelspec": {
   "display_name": "Python 3",
   "language": "python",
   "name": "python3"
  },
  "language_info": {
   "codemirror_mode": {
    "name": "ipython",
    "version": 2
   },
   "file_extension": ".py",
   "mimetype": "text/x-python",
   "name": "python",
   "nbconvert_exporter": "python",
   "pygments_lexer": "ipython2",
   "version": "2.7.6"
  }
 },
 "nbformat": 4,
 "nbformat_minor": 5
}
